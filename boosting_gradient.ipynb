{
 "cells": [
  {
   "cell_type": "code",
   "execution_count": null,
   "metadata": {},
   "outputs": [],
   "source": [
    "import pandas as pd\n",
    "import xgboost as xgb\n",
    "from sklearn.model_selection import train_test_split\n",
    "from sklearn.metrics import accuracy_score\n",
    "from sklearn.preprocessing import LabelEncoder\n",
    "\n",
    "from sklearn.model_selection import GridSearchCV"
   ]
  },
  {
   "cell_type": "code",
   "execution_count": 20,
   "outputs": [],
   "source": [
    "def extract_title(name):\n",
    "    if '.' in name:\n",
    "        return name.split(',')[1].split('.')[0].strip()\n",
    "    return \"Unknown\"\n"
   ],
   "metadata": {
    "collapsed": false
   }
  },
  {
   "cell_type": "code",
   "execution_count": 63,
   "outputs": [],
   "source": [
    "def format_df(data, fill=False):\n",
    "    if fill:\n",
    "        data = data.fillna(data.mean())\n",
    "    data['Age'].fillna(data['Age'].mean(), inplace=True)\n",
    "    data['Embarked'].fillna(data['Embarked'].mode()[0], inplace=True)\n",
    "    data['Fare'].fillna(data['Fare'].mean(), inplace=True)\n",
    "    data['name_length']  = data['Name'].apply(len)\n",
    "\n",
    "    label_encoder = LabelEncoder()\n",
    "    data['Sex'] = label_encoder.fit_transform(data['Sex'])\n",
    "    data['Embarked'] = label_encoder.fit_transform(data['Embarked'])\n",
    "    data['Title'] = data['Name'].apply(extract_title)\n",
    "    data['Title'] = label_encoder.fit_transform(data['Title'])\n",
    "\n",
    "    data = data.drop(['Name', 'Ticket', 'Cabin'], axis=1)\n",
    "    X = data.drop('Survived', axis=1)\n",
    "    y = data['Survived']\n",
    "\n",
    "    return X, y"
   ],
   "metadata": {
    "collapsed": false
   }
  },
  {
   "cell_type": "code",
   "execution_count": 65,
   "outputs": [],
   "source": [
    "df_val = pd.read_csv('test.csv')\n",
    "df_val['Age'].fillna(df_val['Age'].mean(), inplace=True)\n",
    "df_val['Embarked'].fillna(df_val['Embarked'].mode()[0], inplace=True)\n",
    "df_val['Fare'].fillna(df_val['Fare'].mean(), inplace=True)\n",
    "df_val['name_length']  = df_val['Name'].apply(len)\n",
    "\n",
    "label_encoder = LabelEncoder()\n",
    "df_val['Sex'] = label_encoder.fit_transform(df_val['Sex'])\n",
    "df_val['Embarked'] = label_encoder.fit_transform(df_val['Embarked'])\n",
    "df_val['Title'] = df_val['Name'].apply(extract_title)\n",
    "df_val['Title'] = label_encoder.fit_transform(df_val['Title'])\n",
    "df_val = df_val.drop(['Name', 'Ticket', 'Cabin'], axis=1)\n",
    "\n",
    "y_val = pd.read_csv('gender_submission.csv')['Survived']"
   ],
   "metadata": {
    "collapsed": false
   }
  },
  {
   "cell_type": "code",
   "execution_count": 69,
   "metadata": {},
   "outputs": [
    {
     "name": "stdout",
     "output_type": "stream",
     "text": [
      "Best parameters found: {'gamma': 0, 'learning_rate': 0.1, 'max_depth': 3, 'reg_lambda': 0, 'scale_pos_weight': 1}\n",
      "Best accuracy found: 0.8342965878334456\n"
     ]
    },
    {
     "data": {
      "text/plain": "0.8564593301435407"
     },
     "execution_count": 69,
     "metadata": {},
     "output_type": "execute_result"
    }
   ],
   "source": [
    "data = pd.read_csv(\"train.csv\")\n",
    "X, y = format_df(data)\n",
    "param_grid = {\n",
    "    'max_depth': [3, 4, 5],\n",
    "    'learning_rate': [0.1, 0.01, 0.05],\n",
    "    'gamma': [0, 0.25, 1.0],\n",
    "    'reg_lambda': [0, 1.0, 10.0],\n",
    "    'scale_pos_weight': [1, 3, 5],\n",
    "}\n",
    "X_train, X_test, y_train, y_test = train_test_split(X, y, test_size=0.2, random_state=42)\n",
    "xgb_clf  = xgb.XGBClassifier(n_estimators=100, use_label_encoder=False, eval_metric='logloss')\n",
    "grid_clf = GridSearchCV(xgb_clf , param_grid, scoring='accuracy', cv=3, n_jobs=-1)\n",
    "\n",
    "grid_clf.fit(X_train, y_train)\n",
    "\n",
    "y_pred = grid_clf.predict(X_test)\n",
    "print(f\"Best parameters found: {grid_clf.best_params_}\")\n",
    "print(f\"Best accuracy found: {grid_clf.best_score_}\")\n",
    "\n",
    "accuracy_score(grid_clf.predict(df_val), y_val)\n"
   ]
  },
  {
   "cell_type": "code",
   "execution_count": 64,
   "outputs": [
    {
     "name": "stderr",
     "output_type": "stream",
     "text": [
      "C:\\Users\\Enzo\\AppData\\Local\\Temp\\ipykernel_19264\\1119768689.py:3: FutureWarning: Dropping of nuisance columns in DataFrame reductions (with 'numeric_only=None') is deprecated; in a future version this will raise TypeError.  Select only valid columns before calling the reduction.\n",
      "  data = data.fillna(data.mean())\n"
     ]
    },
    {
     "name": "stdout",
     "output_type": "stream",
     "text": [
      "Fitting 5 folds for each of 324 candidates, totalling 1620 fits\n",
      "0.8212290502793296\n"
     ]
    }
   ],
   "source": [
    "from sklearn.ensemble import GradientBoostingClassifier\n",
    "\n",
    "param_grid = {\n",
    "    'max_depth': [3, 4, 5],\n",
    "    'learning_rate': [0.1, 0.01, 0.05],\n",
    "    'n_estimators': [100, 200],\n",
    "    'subsample': [1.0, 0.5],\n",
    "    'min_samples_split': [2, 5, 10],\n",
    "    'min_samples_leaf': [1, 2, 4],\n",
    "}\n",
    "\n",
    "clf = GradientBoostingClassifier()\n",
    "\n",
    "data = pd.read_csv(\"train.csv\")\n",
    "X, y = format_df(data, fill=True)\n",
    "\n",
    "X_train, X_test, y_train, y_test = train_test_split(X, y, test_size=0.2, random_state=42)\n",
    "grid_clf = GridSearchCV(estimator=clf, param_grid=param_grid, cv=5, scoring='accuracy', verbose=1, n_jobs=-1)\n",
    "grid_clf.fit(X_train, y_train)\n",
    "y_pred = grid_clf.predict(X_test)\n",
    "print(accuracy_score(y_test, y_pred))"
   ],
   "metadata": {
    "collapsed": false
   }
  },
  {
   "cell_type": "code",
   "execution_count": 67,
   "outputs": [
    {
     "data": {
      "text/plain": "0.8588516746411483"
     },
     "execution_count": 67,
     "metadata": {},
     "output_type": "execute_result"
    }
   ],
   "source": [
    "accuracy_score(grid_clf.predict(df_val), y_val)"
   ],
   "metadata": {
    "collapsed": false
   }
  },
  {
   "cell_type": "markdown",
   "source": [],
   "metadata": {
    "collapsed": false
   }
  }
 ],
 "metadata": {
  "kernelspec": {
   "display_name": "Python 3 (ipykernel)",
   "language": "python",
   "name": "python3"
  },
  "language_info": {
   "codemirror_mode": {
    "name": "ipython",
    "version": 3
   },
   "file_extension": ".py",
   "mimetype": "text/x-python",
   "name": "python",
   "nbconvert_exporter": "python",
   "pygments_lexer": "ipython3",
   "version": "3.9.12"
  }
 },
 "nbformat": 4,
 "nbformat_minor": 1
}
